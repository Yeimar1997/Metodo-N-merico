{
  "nbformat": 4,
  "nbformat_minor": 0,
  "metadata": {
    "colab": {
      "name": "Algoritmo Interpolacion Polinomica (Newton)",
      "provenance": [],
      "authorship_tag": "ABX9TyNrYAQYkOhuIDCiObvc03wE",
      "include_colab_link": true
    },
    "kernelspec": {
      "name": "python3",
      "display_name": "Python 3"
    }
  },
  "cells": [
    {
      "cell_type": "markdown",
      "metadata": {
        "id": "view-in-github",
        "colab_type": "text"
      },
      "source": [
        "<a href=\"https://colab.research.google.com/github/Yeimar1997/Metodo-n-merico/blob/master/Algoritmo_Interpolacion_Polinomica_(Newton).ipynb\" target=\"_parent\"><img src=\"https://colab.research.google.com/assets/colab-badge.svg\" alt=\"Open In Colab\"/></a>"
      ]
    },
    {
      "cell_type": "markdown",
      "metadata": {
        "id": "NIwNQF5yyxn2",
        "colab_type": "text"
      },
      "source": [
        ""
      ]
    },
    {
      "cell_type": "code",
      "metadata": {
        "id": "9u_0rHcvyyIF",
        "colab_type": "code",
        "colab": {
          "base_uri": "https://localhost:8080/",
          "height": 74
        },
        "outputId": "25da37e5-a1af-4869-d26d-50a432da321c"
      },
      "source": [
        "print (\"Interpolacion Polinomica (Newton)\");\n",
        "n = int(input(\"Ingrese el grado del polinomio a evaluar: \"))+1\n",
        "\n",
        "# print \"El grado del polinomio es: \", n\n",
        "\n",
        "matriz = [0.0] * n\n",
        "for i in range(n):\n",
        "    matriz[i] = [0.0] * n\n",
        "\n",
        "vector = [0.0] * n\n",
        "\n",
        "print (matriz)\n",
        "print (vector)\n",
        "for i in range(n):\n",
        "    x = input(\"Ingrese el valor de x: \")\n",
        "    y = input(\"Ingrese el valor de f(\"+x+\"): \")\n",
        "    vector[i]=float(x)\n",
        "    matriz[i][0]=float(y)\n",
        "\n",
        "print (vector)    \n",
        "print (matriz)\n",
        "\n",
        "punto_a_evaluar = float(input(\"Ingrese el punto a evaluar: \"))\n",
        "\n",
        "\n",
        "for i in range(1,n):\n",
        "    for j in range(i,n):\n",
        "        print (\"i=\",i,\"    j=\",j);\n",
        "        print (\"(\",matriz[j][i-1],\"-\",matriz[j-1][i-1],\")/(\",vector[j],\"-\",vector[j-i],\")\");\n",
        "        matriz[j][i] = ( (matriz[j][i-1]-matriz[j-1][i-1]) / (vector[j]-vector[j-i]));\n",
        "        print (\"matriz[\",j,\"][\",i,\"] = \",(matriz[j][i-1]-matriz[j-1][i-1])/(vector[j]-vector[j-i]));\n",
        "\n",
        "print (\"------------------------------\");\n",
        "\n",
        "for i in range(n):\n",
        "    print (matriz[i]);\n",
        "print (\"------------------------------\");\n",
        "\n",
        "aprx = 0\n",
        "mul = 1.0\n",
        "for i in range(n):\n",
        "    print (\"matriz[\",i,\"][\",i,\"]\",\"=\",matriz[i][i]);\n",
        "    mul = (matriz[i][i]);\n",
        "    print (\"mul antes del ciclo j=\",mul);\n",
        "    for j in range(1,i+1):\n",
        "        mul = mul * (punto_a_evaluar - vector[j-1]);\n",
        "        print (\"mul en el ciclo j=\",mul);\n",
        "    # print aprx\n",
        "    aprx = aprx + mul\n",
        "\n",
        "print (\"El valor aproximado de f(\",punto_a_evaluar,\") es: \", aprx);"
      ],
      "execution_count": 0,
      "outputs": [
        {
          "output_type": "stream",
          "text": [
            "Interpolacion Polinomica (Newton)\n"
          ],
          "name": "stdout"
        }
      ]
    }
  ]
}