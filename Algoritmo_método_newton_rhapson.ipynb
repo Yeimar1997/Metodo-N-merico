{
  "nbformat": 4,
  "nbformat_minor": 0,
  "metadata": {
    "colab": {
      "name": "Algoritmo método newton rhapson",
      "provenance": [],
      "authorship_tag": "ABX9TyO8al89TL4BJu53khwaQTX0",
      "include_colab_link": true
    },
    "kernelspec": {
      "name": "python3",
      "display_name": "Python 3"
    }
  },
  "cells": [
    {
      "cell_type": "markdown",
      "metadata": {
        "id": "view-in-github",
        "colab_type": "text"
      },
      "source": [
        "<a href=\"https://colab.research.google.com/github/Yeimar1997/Metodo-n-merico/blob/master/Algoritmo_m%C3%A9todo_newton_rhapson.ipynb\" target=\"_parent\"><img src=\"https://colab.research.google.com/assets/colab-badge.svg\" alt=\"Open In Colab\"/></a>"
      ]
    },
    {
      "cell_type": "markdown",
      "metadata": {
        "id": "C_5EW48UMiY-",
        "colab_type": "text"
      },
      "source": [
        "**Método de Newton-Raphson**\n",
        "\n",
        "Este método  de resolución numérica busca un cero de la función **f(x)** por aproximaciones sucesivas a partir de un valor inicial **x0**. El valor sucesivo **xn+1** es la abscisa del punto en que la tangente a la gráfica de **f(x)** en **xn** corta al eje **Ox**."
      ]
    },
    {
      "cell_type": "code",
      "metadata": {
        "id": "o2aJk-sqMkzx",
        "colab_type": "code",
        "colab": {
          "base_uri": "https://localhost:8080/",
          "height": 127
        },
        "outputId": "b2fc47ce-f3f0-4b51-821a-2e7139f4130d"
      },
      "source": [
        "import sympy as sy\n",
        "\n",
        "#x  simbolo\n",
        "x=sy.symbols('x')\n",
        "\n",
        "#funcion \n",
        "funcion=sy.exp(-x)-x\n",
        "\n",
        "#primera derivada de la funcion\n",
        "derivada=sy.diff(funcion,x)\n",
        "\n",
        "#varibles\n",
        "#xo valor inicial para la convergencia\n",
        "x_0=0\n",
        "xr=x_0\n",
        "\n",
        "#error aproximado relatico porcentual\n",
        "ea=100/100\n",
        "\n",
        "#error estimado\n",
        "es=0.001/100\n",
        "contador=-1\n",
        "print(\"i\\txi\\tea%\")\n",
        "while ea>es:\n",
        "    xra=xr\n",
        "    contador+=1\n",
        "    newton_rhapson=x-(funcion/derivada)\n",
        "    #se subtituye x por xr a continuandicon se evalua\n",
        "    xr=newton_rhapson.evalf(subs={x: xr})\n",
        "    #error aproximado relativo porcentual\n",
        "    ea=sy.Abs(((xr-xra)/xr)*100)\n",
        "    #resultado\n",
        "    print(contador,\"\\t\",xra,\"\\t\",ea)"
      ],
      "execution_count": 1,
      "outputs": [
        {
          "output_type": "stream",
          "text": [
            "i\txi\tea%\n",
            "0 \t 0 \t 100.000000000000\n",
            "1 \t 0.500000000000000 \t 11.7092909766624\n",
            "2 \t 0.566311003197218 \t 0.146728707837439\n",
            "3 \t 0.567143165034862 \t 2.21063919843976e-5\n",
            "4 \t 0.567143290409781 \t 4.89392647060576e-13\n"
          ],
          "name": "stdout"
        }
      ]
    }
  ]
}