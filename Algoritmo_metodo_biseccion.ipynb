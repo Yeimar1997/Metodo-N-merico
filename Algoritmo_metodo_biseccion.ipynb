{
  "nbformat": 4,
  "nbformat_minor": 0,
  "metadata": {
    "kernelspec": {
      "display_name": "Python 3",
      "language": "python",
      "name": "python3"
    },
    "language_info": {
      "codemirror_mode": {
        "name": "ipython",
        "version": 3
      },
      "file_extension": ".py",
      "mimetype": "text/x-python",
      "name": "python",
      "nbconvert_exporter": "python",
      "pygments_lexer": "ipython3",
      "version": "3.7.6"
    },
    "colab": {
      "name": "Algoritmo metodo biseccion.ipynb",
      "provenance": [],
      "collapsed_sections": [],
      "include_colab_link": true
    }
  },
  "cells": [
    {
      "cell_type": "markdown",
      "metadata": {
        "id": "view-in-github",
        "colab_type": "text"
      },
      "source": [
        "<a href=\"https://colab.research.google.com/github/Yeimar1997/Metodo-n-merico/blob/master/Algoritmo_metodo_biseccion.ipynb\" target=\"_parent\"><img src=\"https://colab.research.google.com/assets/colab-badge.svg\" alt=\"Open In Colab\"/></a>"
      ]
    },
    {
      "cell_type": "markdown",
      "metadata": {
        "id": "dHwP_FRNIrg5",
        "colab_type": "text"
      },
      "source": [
        "# Método de bisección\n",
        "\n",
        "* Es un algoritmo de búsqueda de raíces que trabaja dividiendo el intervalo a la mitad y seleccionando el subintervalo que tiene la raíz.\n",
        "\n",
        "*  El algoritmo se aplica a cualquier función continua **f(x)** en un intervalo **[a, b]** donde el valor de la función **f(x)** cambia el signo de **a**  a  **b**. \n",
        "\n",
        "* Este método consiste en obtener una mejor aproximación de la raíz a partir de un intervalo inicial **(a,b)** en el cual hay un cambio de signo en la función, es decir: **f(a)f(b)<0.**\n",
        "\n",
        "## Formulas  \n",
        "\n",
        "![alter](https://drive.google.com/uc?id=1W1QrM7R3BALEI3_Kdlr52dZVQcvtQ84G)\n",
        "\n",
        "\n",
        "![texto alternativo](https://drive.google.com/uc?id=1c5DAsv5NSVW7ywe3Jk-fWhgl-MxdjzlR)\n",
        "\n",
        "## Tabla metodo bisección\n",
        "\n",
        "* Esta tabla se utiliza con el fin de que cada valor que nos de al momento de realizar las operaciones no nos confundamos y tengamos todo en orden. \n",
        "\n",
        "![texto alternativo](https://drive.google.com/uc?id=1mPi8cexpnApmFiYrMrdw9hwH5apvwds_)\n",
        "\n",
        "## Procedimiento para realizar algun ejercio del método.\n",
        "\n",
        "**1** -Escoja los dos valores iniciales **a** y **b** de formal tal que la funcion cambien de signo en el intervalo. \n",
        "\n",
        "**2** -La aproximación de la raiz es la formula:\n",
        "\n",
        "![texto alternativo](https://drive.google.com/uc?id=1W1QrM7R3BALEI3_Kdlr52dZVQcvtQ84G)\n",
        "\n",
        "**3** -Comienza con los calculos de aproximación remplazando los valores de **a**,**b** y **m** en la funcion.\n",
        "\n",
        "**4** -Evaluar el error relativo de aproximado.\n",
        "\n",
        "![texto alternativo](https://drive.google.com/uc?id=1c5DAsv5NSVW7ywe3Jk-fWhgl-MxdjzlR)\n",
        "\n",
        "### Algorimo\n",
        "El programa no es muy complicado de entender, simplemente nos permite ingresar la ecuacion que esta en la funcion **def f(x): return **(4**x-13.9)**, tambien nos permite hacer el cambio de los valoresiniciales **a** y **b**.\n",
        "\n",
        "**Prodecdimiento**\n",
        "\n",
        "El procedimiento para la realizacion de este método de bisección es:\n",
        "\n",
        "**1.** Elige un intervalo de inicio **[a0,b0]** tal que **f(a0)f(b0)<0**\n",
        "\n",
        "**2.** Calcular **F(m0)** dónde **m0=(a0+b0)/2** Es el punto medio.\n",
        "\n",
        "**3.** Determine el siguiente subintervalo [a1,b1] :\n",
        "\n",
        "* Si f(a0)f(m0)<0,entonces deja [a1,b1] ser el siguiente intervalo con a1 = a0 y b1=m0.\n",
        "* Si f(b0)f(m0)<0,entonces deja [a1,b1] ser el siguiente intervalo con a1 = a1 y b1=b0.\n",
        "         \n",
        "**4.** Repita (2) y (3) hasta el intervalo **[aN,bN]** alcanza una longitud predeterminada.\n",
        "\n",
        "**5.** Devuelve el valor del punto medio **mN =(aN + bN)/2.**\n",
        "\n",
        "\n",
        "***Parametros***\n",
        "\n",
        "**f:** Es la funcion a la cual se le determina alguna raiz\n",
        "\n",
        "**a:** Valor menor del interval\n",
        "\n",
        "**b:** Valor mayor del intervalo\n",
        "\n",
        "**tol:** Es la tolerancia\n",
        "\n",
        "**c:** Formula de para hallar m\n",
        "\n",
        "**fmed:**  Remplaza la formula en c\n",
        "\n",
        "### Algoritmo 1"
      ]
    },
    {
      "cell_type": "code",
      "metadata": {
        "id": "CNsWzqdPIrhf",
        "colab_type": "code",
        "outputId": "25c62f8e-ba65-49f1-e09e-e28dfc19bd16",
        "colab": {
          "base_uri": "https://localhost:8080/",
          "height": 73
        }
      },
      "source": [
        "def biseccion(f, a, b, tol):    \n",
        "    fa = f(a)\n",
        "    if fa*f(b) > 0:\n",
        "        return None\n",
        "    c = (a + b)/2\n",
        "    fmed = f(c)           #Remplaza la funcion el la formula C\n",
        "    i = 4                 # Numero de iteraciones \n",
        "    while abs(b-a) > tol:\n",
        "        if fa*fmed <= 0:\n",
        "            b = c         # La raiz esta en el intervalo [a,c]\n",
        "        else:\n",
        "            a = c         # La raiz esta en el intervalo [c,b]\n",
        "            fa = fmed\n",
        "        c = (a + b)/2\n",
        "        fmed = f(c)\n",
        "        i = i + 1\n",
        "\n",
        "    return i, c, fmed\n",
        "def f(x):\n",
        "    return (4**x-13.9)  #Se define la funcion para encontrar la raiz    \n",
        "tol=1     # Nro tolerancia \n",
        "a=1        # Cambio de valores inicial a\n",
        "b=2         # Cambio de valores inicial b \n",
        "iter, x, fx = biseccion(f, a, b, tol)\n",
        "if x is None:\n",
        "    print('f(x) NO cambia signo en el intervalo [{0:g},{1:g}]'.format(a, b))\n",
        "else:\n",
        "    print('En {0:d} iteraciones y con tolerancia de {1:g} la raiz es:'.format(iter,tol))\n",
        "    print('valores iniciales: a = {0:g}, b = {1:g}'.format(a,b,))\n",
        "    print('m = {0:g}, generando f({0:g}) = {1:g}'.format(x,fx)) "
      ],
      "execution_count": 5,
      "outputs": [
        {
          "output_type": "stream",
          "text": [
            "En 4 iteraciones y con tolerancia de 1 la raiz es:\n",
            "valores iniciales: a = 1, b = 2\n",
            "m = 1.5, generando f(1.5) = -5.9\n"
          ],
          "name": "stdout"
        }
      ]
    },
    {
      "cell_type": "markdown",
      "metadata": {
        "id": "SvPi0-anIriR",
        "colab_type": "text"
      },
      "source": [
        "### Algoritmo 2"
      ]
    },
    {
      "cell_type": "code",
      "metadata": {
        "id": "vG4a-ZLpIriZ",
        "colab_type": "code",
        "outputId": "14f5d66f-d924-4fae-d6e2-929203a59881",
        "colab": {}
      },
      "source": [
        "def f(x):\n",
        "    return 4**x-13.9 ##Se coloca la ecuacion\n",
        "a=1\n",
        "b=2\n",
        "error=10\n",
        "i=0\n",
        "while error >1e-8:\n",
        "    c=(a+b)/2\n",
        "    fa=f(a)\n",
        "    fc=f(c)\n",
        "    if fc == 0: \n",
        "        raiz = c\n",
        "        break\n",
        "    elif fa * fc < 0:\n",
        "        b=c\n",
        "    else:\n",
        "        a=c\n",
        "    raiz=c\n",
        "    i += 1\n",
        "    error = abs(fc)\n",
        "    print(\"Iteración\",i , \"Raiz aproximada\",raiz)"
      ],
      "execution_count": 0,
      "outputs": [
        {
          "output_type": "stream",
          "text": [
            "Iteración 1 Raiz aproximada 1.5\n",
            "Iteración 2 Raiz aproximada 1.75\n",
            "Iteración 3 Raiz aproximada 1.875\n",
            "Iteración 4 Raiz aproximada 1.9375\n",
            "Iteración 5 Raiz aproximada 1.90625\n",
            "Iteración 6 Raiz aproximada 1.890625\n",
            "Iteración 7 Raiz aproximada 1.8984375\n",
            "Iteración 8 Raiz aproximada 1.90234375\n",
            "Iteración 9 Raiz aproximada 1.900390625\n",
            "Iteración 10 Raiz aproximada 1.8994140625\n",
            "Iteración 11 Raiz aproximada 1.89892578125\n",
            "Iteración 12 Raiz aproximada 1.898681640625\n",
            "Iteración 13 Raiz aproximada 1.8985595703125\n",
            "Iteración 14 Raiz aproximada 1.89849853515625\n",
            "Iteración 15 Raiz aproximada 1.898529052734375\n",
            "Iteración 16 Raiz aproximada 1.8985137939453125\n",
            "Iteración 17 Raiz aproximada 1.8985061645507812\n",
            "Iteración 18 Raiz aproximada 1.8985099792480469\n",
            "Iteración 19 Raiz aproximada 1.898508071899414\n",
            "Iteración 20 Raiz aproximada 1.8985071182250977\n",
            "Iteración 21 Raiz aproximada 1.8985066413879395\n",
            "Iteración 22 Raiz aproximada 1.8985064029693604\n",
            "Iteración 23 Raiz aproximada 1.89850652217865\n",
            "Iteración 24 Raiz aproximada 1.8985064625740051\n",
            "Iteración 25 Raiz aproximada 1.8985064923763275\n",
            "Iteración 26 Raiz aproximada 1.8985064774751663\n",
            "Iteración 27 Raiz aproximada 1.898506484925747\n",
            "Iteración 28 Raiz aproximada 1.8985064886510372\n"
          ],
          "name": "stdout"
        }
      ]
    },
    {
      "cell_type": "code",
      "metadata": {
        "id": "lcw5YduYIrix",
        "colab_type": "code",
        "colab": {}
      },
      "source": [
        ""
      ],
      "execution_count": 0,
      "outputs": []
    }
  ]
}