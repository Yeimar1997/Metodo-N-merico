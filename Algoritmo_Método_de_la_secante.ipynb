{
  "nbformat": 4,
  "nbformat_minor": 0,
  "metadata": {
    "colab": {
      "name": "Algoritmo Método de la secante ",
      "provenance": [],
      "authorship_tag": "ABX9TyOYqD9KYc2bt29FfuIpXYeV",
      "include_colab_link": true
    },
    "kernelspec": {
      "name": "python3",
      "display_name": "Python 3"
    }
  },
  "cells": [
    {
      "cell_type": "markdown",
      "metadata": {
        "id": "view-in-github",
        "colab_type": "text"
      },
      "source": [
        "<a href=\"https://colab.research.google.com/github/Yeimar1997/Metodo-n-merico/blob/master/Algoritmo_M%C3%A9todo_de_la_secante.ipynb\" target=\"_parent\"><img src=\"https://colab.research.google.com/assets/colab-badge.svg\" alt=\"Open In Colab\"/></a>"
      ]
    },
    {
      "cell_type": "markdown",
      "metadata": {
        "id": "KON1COq9DEmn",
        "colab_type": "text"
      },
      "source": [
        "** Método de la secante ** \n",
        "\n",
        "Es un método para encontrar los ceros de una función de forma iterativa."
      ]
    },
    {
      "cell_type": "code",
      "metadata": {
        "id": "ToVcRgYJDEy9",
        "colab_type": "code",
        "colab": {
          "base_uri": "https://localhost:8080/",
          "height": 54
        },
        "outputId": "c9d1a360-0cb5-4222-e692-9c2b212947a5"
      },
      "source": [
        "import math\n",
        "\n",
        "\n",
        "def secant(xk_1, xk, tol, f): \n",
        "\n",
        "    _iter = 1\n",
        "\n",
        "    # Repetir hasta que x el error sea mas pequenio que la tolerancia\n",
        "    while (abs(xk - xk_1) / abs(xk)) > tol:\n",
        "        # Nuevo valor de x\n",
        "        xTemp = xk - (xk - xk_1) / (f(xk) - f(xk_1)) * f(xk)\n",
        "        # Actualizar el valor anterior y el valor actual\n",
        "        xk_1 = xk\n",
        "        xk = xTemp\n",
        "        # Actualizar las iteraciones\n",
        "        _iter += 1\n",
        "\n",
        "    return xk, _iter\n",
        "\n",
        "\n",
        "# Prueba\n",
        "if __name__ == '__main__':\n",
        "    # Valores iniciales\n",
        "    x0 = 0\n",
        "    x1 = 1\n",
        "    \n",
        "    # Funcion a la cual se le aplica el metodo\n",
        "    func = lambda x: math.e**(-x**2) - x\n",
        "    # Llamado de la funcion\n",
        "    xk, _iter = secant(x0, x1, tol, func)\n",
        "    print('xk = {}\\nIteraciones = {}'.format(xk, _iter))"
      ],
      "execution_count": 7,
      "outputs": [
        {
          "output_type": "stream",
          "text": [
            "xk = 0.6529172652472789\n",
            "Iteraciones = 4\n"
          ],
          "name": "stdout"
        }
      ]
    }
  ]
}