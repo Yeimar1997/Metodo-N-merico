{
  "nbformat": 4,
  "nbformat_minor": 0,
  "metadata": {
    "colab": {
      "name": "Algortimo gauss seidel",
      "provenance": [],
      "authorship_tag": "ABX9TyORPwjBV+1Z2avt1GFH7Jn1",
      "include_colab_link": true
    },
    "kernelspec": {
      "name": "python3",
      "display_name": "Python 3"
    }
  },
  "cells": [
    {
      "cell_type": "markdown",
      "metadata": {
        "id": "view-in-github",
        "colab_type": "text"
      },
      "source": [
        "<a href=\"https://colab.research.google.com/github/Yeimar1997/Metodo-n-merico/blob/master/Algortimo_gauss_seidel.ipynb\" target=\"_parent\"><img src=\"https://colab.research.google.com/assets/colab-badge.svg\" alt=\"Open In Colab\"/></a>"
      ]
    },
    {
      "cell_type": "code",
      "metadata": {
        "id": "FEjbP8vsEXCE",
        "colab_type": "code",
        "colab": {}
      },
      "source": [
        "import numpy\n",
        "f=int(input('Ingrese el valor de fila:')) ## Fila \n",
        "n=int(input('Ingrese el valor de columna:')) #Columna\n",
        "matriz = numpy.zeros((f,n)) #Matriz\n",
        "x=numpy.zeros((f)) #Vector solucion\n",
        "\n",
        "vector=numpy.zeros((n))\n",
        "comp=numpy.zeros((f))\n",
        "error=[]  \n",
        "\n",
        "print ('Método de Gauss-Seidel')\n",
        "print ('Introduce la matriz de coeficientes y el vector solución')\n",
        "for r in range(0,f):\n",
        "    for c in range(0,n):\n",
        "        matriz[(r),(c)]=float(input(\"Elemento a[\"+str(r+1)+str(c+1)+\"] \"))\n",
        "    vector[(r)]=float(input('b['+str(r+1)+']: '))\n",
        "itera=int(input(\"¿Cual es el numero maxìmo de iteraciones? \")) ##interaciones       \n",
        "print (\"Método de Gauss-Seidel\")\n",
        "\n",
        "##Contador \n",
        "k=0 \n",
        "while k < itera:\n",
        "    suma=0\n",
        "    k=k+1\n",
        "    for r in range(0,f):\n",
        "        suma=0\n",
        "        for c in range(0,n):\n",
        "            if (c != r):\n",
        "                suma=suma+matriz[r,c]*x[c]               \n",
        "        x[r]=(vector[r]-suma)/matriz[r,r]\n",
        "        print(\"x[\"+str(r)+\"]: \"+str(x[r]))\n",
        "        del error[:]\n",
        "\n",
        "#Comprobación\n",
        "for r in range(0,f):\n",
        "        suma=0\n",
        "        for c in range(0,n):\n",
        "            suma=suma+matriz[r,c]*x[c]\n",
        "            comp[r]=suma\n",
        "            dif=abs(comp[r]-vector[r])\n",
        "            error.append(dif)\n",
        "            print(\"Error en x[\",r,\"]=\",error[r])\n",
        "        print(\"iteraciones: \" ,k)\n",
        "        if all( i<=tol for i in error) == True:\n",
        "         break\n",
        "        \n",
        "print(\"Chao\")"
      ],
      "execution_count": 0,
      "outputs": []
    }
  ]
}