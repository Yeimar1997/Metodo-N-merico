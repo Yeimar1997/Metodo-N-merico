{
  "nbformat": 4,
  "nbformat_minor": 0,
  "metadata": {
    "colab": {
      "name": "Algoritmo del metodo interpolacion de newton",
      "provenance": [],
      "authorship_tag": "ABX9TyMZtzN9j/B/e7Vpl3Vk0vc2",
      "include_colab_link": true
    },
    "kernelspec": {
      "name": "python3",
      "display_name": "Python 3"
    }
  },
  "cells": [
    {
      "cell_type": "markdown",
      "metadata": {
        "id": "view-in-github",
        "colab_type": "text"
      },
      "source": [
        "<a href=\"https://colab.research.google.com/github/Yeimar1997/Metodo-n-merico/blob/master/Algoritmo_del_metodo_interpolacion_de_newton.ipynb\" target=\"_parent\"><img src=\"https://colab.research.google.com/assets/colab-badge.svg\" alt=\"Open In Colab\"/></a>"
      ]
    },
    {
      "cell_type": "markdown",
      "metadata": {
        "id": "9BU-iC5LAeQv",
        "colab_type": "text"
      },
      "source": [
        "**Metodo interpolacion de newton**\n",
        "\n",
        "Uno de estas formas de interpolación se denomina Polinomios de Interpolación deNewton, que trabaja directamente en la tabla obtenida mediante el proceso de Diferencias Divididas; En el desarrollo de estas diferencias finitas, se obtuvo en primer lugar las diferencias finitas ordinarias y luego las diferencias finitas divididas.\n"
      ]
    },
    {
      "cell_type": "code",
      "metadata": {
        "id": "ntf9Ru29Aein",
        "colab_type": "code",
        "colab": {
          "base_uri": "https://localhost:8080/",
          "height": 589
        },
        "outputId": "b072bf06-b2d0-49da-a542-953f6b1654b3"
      },
      "source": [
        "import numpy as np\n",
        "import sympy as sym\n",
        "import matplotlib.pyplot as plt\n",
        "\n",
        "xi = [0,0.2,0.3,0.4]\n",
        "fi = [1,1.6,1.7,2.0]\n",
        "\n",
        "muestras = 101\n",
        "\n",
        "# PROCEDIMIENTO \n",
        "xi = np.array(xi)\n",
        "B = np.array(fi)\n",
        "B = np.transpose([B])\n",
        "n = len(xi)\n",
        "\n",
        "# Matriz Vandermonde D\n",
        "D = np.zeros(shape=(n,n),dtype =float)\n",
        "for i in range(0,n,1):\n",
        "    for j in range(0,n,1):\n",
        "        potencia = (n-1)-j\n",
        "        D[i,j] = xi[i]**potencia\n",
        "\n",
        "# Resuelve sistema de ecuaciones A.X=B\n",
        "coeficiente = np.linalg.solve(D,B)\n",
        "\n",
        "# Polinomio en forma simbólica\n",
        "x = sym.Symbol('x')\n",
        "polinomio = 0\n",
        "for i in range(0,n,1):\n",
        "    potencia = (n-1)-i\n",
        "    termino = coeficiente[i,0]*(x**potencia)\n",
        "    polinomio = polinomio + termino\n",
        "\n",
        "# Polinomio a forma Lambda\n",
        "# para evaluación con vectores de datos xin\n",
        "px = sym.lambdify(x,polinomio)\n",
        "\n",
        "# Para graficar el polinomio en [a,b]\n",
        "a = np.min(xi)\n",
        "b = np.max(xi)\n",
        "xin = np.linspace(a,b,muestras)\n",
        "yin = px(xin)\n",
        "    \n",
        "# SALIDA\n",
        "print('Matriz Vandermonde: ')\n",
        "print(D)\n",
        "print('los coeficientes del polinomio: ')\n",
        "print(coeficiente)\n",
        "print('Polinomio de interpolación: ')\n",
        "print(polinomio)\n",
        "print('\\n formato pprint')\n",
        "sym.pprint(polinomio)\n",
        "\n",
        "# Grafica\n",
        "plt.plot(xi,fi,'o', label='[xi,fi]')\n",
        "plt.plot(xin,yin, label='p(x)')\n",
        "plt.xlabel('xi')\n",
        "plt.ylabel('fi')\n",
        "plt.legend()\n",
        "plt.title(polinomio)\n",
        "plt.show()\n"
      ],
      "execution_count": 3,
      "outputs": [
        {
          "output_type": "stream",
          "text": [
            "Matriz Vandermonde: \n",
            "[[0.    0.    0.    1.   ]\n",
            " [0.008 0.04  0.2   1.   ]\n",
            " [0.027 0.09  0.3   1.   ]\n",
            " [0.064 0.16  0.4   1.   ]]\n",
            "los coeficientes del polinomio: \n",
            "[[ 41.66666667]\n",
            " [-27.5       ]\n",
            " [  6.83333333]\n",
            " [  1.        ]]\n",
            "Polinomio de interpolación: \n",
            "41.6666666666667*x**3 - 27.5*x**2 + 6.83333333333334*x + 1.0\n",
            "\n",
            " formato pprint\n",
            "                  3         2                           \n",
            "41.6666666666667⋅x  - 27.5⋅x  + 6.83333333333334⋅x + 1.0\n"
          ],
          "name": "stdout"
        },
        {
          "output_type": "display_data",
          "data": {
            "image/png": "[encoded data removed]",
            "text/plain": [
              "<Figure size 432x288 with 1 Axes>"
            ]
          },
          "metadata": {
            "tags": [],
            "needs_background": "light"
          }
        }
      ]
    }
  ]
}