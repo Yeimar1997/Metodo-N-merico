{
  "nbformat": 4,
  "nbformat_minor": 0,
  "metadata": {
    "colab": {
      "name": "Algoritmo metodo interpolación cuadrática",
      "provenance": [],
      "authorship_tag": "ABX9TyNgJjr80WgSnleaGuul+i8m",
      "include_colab_link": true
    },
    "kernelspec": {
      "name": "python3",
      "display_name": "Python 3"
    }
  },
  "cells": [
    {
      "cell_type": "markdown",
      "metadata": {
        "id": "view-in-github",
        "colab_type": "text"
      },
      "source": [
        "<a href=\"https://colab.research.google.com/github/Yeimar1997/Metodo-n-merico/blob/master/Algoritmo_metodo_interpolaci%C3%B3n_cuadr%C3%A1tica.ipynb\" target=\"_parent\"><img src=\"https://colab.research.google.com/assets/colab-badge.svg\" alt=\"Open In Colab\"/></a>"
      ]
    },
    {
      "cell_type": "markdown",
      "metadata": {
        "id": "Y4puSET__6Sj",
        "colab_type": "text"
      },
      "source": [
        "**Algoritmo metodo interpolación cuadrática**"
      ]
    },
    {
      "cell_type": "code",
      "metadata": {
        "id": "iMWnUxxt_6j5",
        "colab_type": "code",
        "colab": {}
      },
      "source": [
        "def formula(x,fx):\n",
        "    b0=fx[0]\n",
        "    b1=(fx[1]-fx[0])/(x[1]-x[0])\n",
        "    b2=(((fx[2]-fx[1])/(x[2]-x[1]))-((fx[1]-fx[0])/(x[1]-x[0])))/(x[2]-x[0])\n",
        "    f2=b0+b1*(x[3]-x[0])+b2*(x[3]-x[0])*(x[3]-x[1])\n",
        "    return (f2)\n",
        "\n",
        "x=[]  \n",
        "fx=[]\n",
        "for i in range (0,3):\n",
        "    vx=float(input(\"Introduce el valor para x[\"+str (i+1)+\"] \"))\n",
        "    x.append (vx)\n",
        "    vfx=(input(\"Introduce el valor para fx[\"+str (i+1)+\"] \"))\n",
        "    fx.append(vfx)\n",
        "vx=float(input(\"Introduce el valor de x para calcular f(x): \"))\n",
        "x.append(vx)\n",
        "print(\"El valor de f(x) es: \",formula(x,fx))\n",
        "\n"
      ],
      "execution_count": 0,
      "outputs": []
    }
  ]
}