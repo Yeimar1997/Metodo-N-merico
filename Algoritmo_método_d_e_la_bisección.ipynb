{
  "nbformat": 4,
  "nbformat_minor": 0,
  "metadata": {
    "colab": {
      "name": "Algoritmo método d e la  bisección",
      "provenance": [],
      "authorship_tag": "ABX9TyMpfk7tjRL/6SHVPiQSnxuA",
      "include_colab_link": true
    },
    "kernelspec": {
      "name": "python3",
      "display_name": "Python 3"
    }
  },
  "cells": [
    {
      "cell_type": "markdown",
      "metadata": {
        "id": "view-in-github",
        "colab_type": "text"
      },
      "source": [
        "<a href=\"https://colab.research.google.com/github/Yeimar1997/Metodo-n-merico/blob/master/Algoritmo_m%C3%A9todo_d_e_la_bisecci%C3%B3n.ipynb\" target=\"_parent\"><img src=\"https://colab.research.google.com/assets/colab-badge.svg\" alt=\"Open In Colab\"/></a>"
      ]
    },
    {
      "cell_type": "markdown",
      "metadata": {
        "id": "P7Q9nCm2LDlc",
        "colab_type": "text"
      },
      "source": [
        ""
      ]
    },
    {
      "cell_type": "code",
      "metadata": {
        "id": "2YsJPkEJLDzC",
        "colab_type": "code",
        "colab": {
          "base_uri": "https://localhost:8080/",
          "height": 256
        },
        "outputId": "55a86f2b-5e69-489c-c5a9-b002716e12f5"
      },
      "source": [
        "# Algoritmo de Bisección\n",
        "# [a,b] se escogen de la gráfica de la función\n",
        "# error = tolera\n",
        "import numpy as np\n",
        "\n",
        "# INGRESO\n",
        "fx = lambda x: x**3 + 4*x**2 - 10 \n",
        "a = 1\n",
        "b = 2\n",
        "tolera = 0.001\n",
        "\n",
        "# PROCEDIMIENTO\n",
        "tabla = []\n",
        "tramo = b-a\n",
        "\n",
        "fa = fx(a)\n",
        "fb = fx(b)\n",
        "i = 1\n",
        "while (tramo>tolera):\n",
        "    c = (a+b)/2\n",
        "    fc = fx(c)\n",
        "    tabla.append([i,a,c,b,fa,fc,fb,tramo])\n",
        "    i = i+1\n",
        "                 \n",
        "    cambia = np.sign(fa)*np.sign(fc)\n",
        "    if (cambia<0):\n",
        "        b = c\n",
        "        fb = fc\n",
        "    else:\n",
        "        a=c\n",
        "        fa = fc\n",
        "    tramo = b-a\n",
        "c = (a+b)/2\n",
        "fc = fx(c)\n",
        "tabla.append([i,a,c,b,fa,fc,fb,tramo])\n",
        "tabla = np.array(tabla)\n",
        "\n",
        "raiz = c\n",
        "\n",
        "# SALIDA\n",
        "np.set_printoptions(precision = 4)\n",
        "print('[ i, a, c, b, f(a), f(c), f(b), tramo]')\n",
        "# print(tabla)\n",
        "\n",
        "# Tabla con formato\n",
        "n=len(tabla)\n",
        "for i in range(0,n,1):\n",
        "    unafila = tabla[i]\n",
        "    formato = '{:.0f}'+' '+(len(unafila)-1)*'{:.3f} '\n",
        "    unafila = formato.format(*unafila)\n",
        "    print(unafila)\n",
        "    \n",
        "print('raiz: ',raiz)"
      ],
      "execution_count": 1,
      "outputs": [
        {
          "output_type": "stream",
          "text": [
            "[ i, a, c, b, f(a), f(c), f(b), tramo]\n",
            "1 1.000 1.500 2.000 -5.000 2.375 14.000 1.000 \n",
            "2 1.000 1.250 1.500 -5.000 -1.797 2.375 0.500 \n",
            "3 1.250 1.375 1.500 -1.797 0.162 2.375 0.250 \n",
            "4 1.250 1.312 1.375 -1.797 -0.848 0.162 0.125 \n",
            "5 1.312 1.344 1.375 -0.848 -0.351 0.162 0.062 \n",
            "6 1.344 1.359 1.375 -0.351 -0.096 0.162 0.031 \n",
            "7 1.359 1.367 1.375 -0.096 0.032 0.162 0.016 \n",
            "8 1.359 1.363 1.367 -0.096 -0.032 0.032 0.008 \n",
            "9 1.363 1.365 1.367 -0.032 0.000 0.032 0.004 \n",
            "10 1.363 1.364 1.365 -0.032 -0.016 0.000 0.002 \n",
            "11 1.364 1.365 1.365 -0.016 -0.008 0.000 0.001 \n",
            "raiz:  1.36474609375\n"
          ],
          "name": "stdout"
        }
      ]
    }
  ]
}